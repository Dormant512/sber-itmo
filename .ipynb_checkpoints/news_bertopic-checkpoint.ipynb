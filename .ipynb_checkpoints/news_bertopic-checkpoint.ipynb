{
 "cells": [
  {
   "cell_type": "markdown",
   "id": "64288b10",
   "metadata": {},
   "source": [
    "# BERTopic news evaluator"
   ]
  },
  {
   "cell_type": "code",
   "execution_count": 7,
   "id": "632603c9",
   "metadata": {},
   "outputs": [
    {
     "data": {
      "text/html": [
       "<div>\n",
       "<style scoped>\n",
       "    .dataframe tbody tr th:only-of-type {\n",
       "        vertical-align: middle;\n",
       "    }\n",
       "\n",
       "    .dataframe tbody tr th {\n",
       "        vertical-align: top;\n",
       "    }\n",
       "\n",
       "    .dataframe thead th {\n",
       "        text-align: right;\n",
       "    }\n",
       "</style>\n",
       "<table border=\"1\" class=\"dataframe\">\n",
       "  <thead>\n",
       "    <tr style=\"text-align: right;\">\n",
       "      <th></th>\n",
       "      <th>date</th>\n",
       "      <th>title</th>\n",
       "    </tr>\n",
       "  </thead>\n",
       "  <tbody>\n",
       "    <tr>\n",
       "      <th>0</th>\n",
       "      <td>2020-01-01</td>\n",
       "      <td>Четыре пешехода, МАЗ и женщина за рулём «Яндек...</td>\n",
       "    </tr>\n",
       "    <tr>\n",
       "      <th>1</th>\n",
       "      <td>2020-01-01</td>\n",
       "      <td>В Петергофе сотрудники ЗАГСа отказались женить...</td>\n",
       "    </tr>\n",
       "    <tr>\n",
       "      <th>2</th>\n",
       "      <td>2020-01-01</td>\n",
       "      <td>Регулярные обследования у врача – залог здоров...</td>\n",
       "    </tr>\n",
       "    <tr>\n",
       "      <th>3</th>\n",
       "      <td>2020-01-01</td>\n",
       "      <td>Твое здоровье – в твоих руках</td>\n",
       "    </tr>\n",
       "    <tr>\n",
       "      <th>4</th>\n",
       "      <td>2020-01-01</td>\n",
       "      <td>Береги сердце смолоду</td>\n",
       "    </tr>\n",
       "  </tbody>\n",
       "</table>\n",
       "</div>"
      ],
      "text/plain": [
       "         date                                              title\n",
       "0  2020-01-01  Четыре пешехода, МАЗ и женщина за рулём «Яндек...\n",
       "1  2020-01-01  В Петергофе сотрудники ЗАГСа отказались женить...\n",
       "2  2020-01-01  Регулярные обследования у врача – залог здоров...\n",
       "3  2020-01-01                      Твое здоровье – в твоих руках\n",
       "4  2020-01-01                              Береги сердце смолоду"
      ]
     },
     "execution_count": 7,
     "metadata": {},
     "output_type": "execute_result"
    }
   ],
   "source": [
    "import pandas as pd\n",
    "import pickle\n",
    "\n",
    "url = \"https://drive.google.com/file/d/1Rm-U_LB-YfmhkgueBqxSFnk21TdJbN_L/view?usp=sharing\"\n",
    "path = \"https://drive.google.com/uc?id=\" + url.split('/')[-2]\n",
    "news = pd.read_csv(path, sep='\\t', on_bad_lines='skip')\n",
    "timestamps = news['date'].to_list()\n",
    "titles = news['title'].to_list()\n",
    "\n",
    "news.head()"
   ]
  },
  {
   "cell_type": "code",
   "execution_count": 6,
   "id": "c72cd65d",
   "metadata": {},
   "outputs": [
    {
     "name": "stdout",
     "output_type": "stream",
     "text": [
      "72972\n"
     ]
    }
   ],
   "source": [
    "print(len(news))"
   ]
  },
  {
   "cell_type": "code",
   "execution_count": null,
   "id": "0aa2b5fc",
   "metadata": {
    "scrolled": true
   },
   "outputs": [],
   "source": [
    "from bertopic import BERTopic\n",
    "\n",
    "topic_model = BERTopic(embedding_model='distiluse-base-multilingual-cased-v1', verbose=True)\n",
    "topics, probs = topic_model.fit_transform(titles)"
   ]
  },
  {
   "cell_type": "markdown",
   "id": "bb5b5c04",
   "metadata": {},
   "source": [
    "### Save model"
   ]
  },
  {
   "cell_type": "code",
   "execution_count": null,
   "id": "cf9e7cdc",
   "metadata": {},
   "outputs": [],
   "source": [
    "topic_model.save(\"news_model\")\n",
    "pickle.dump(topics, open(\"topics.pickle\", \"wb\"))"
   ]
  },
  {
   "cell_type": "markdown",
   "id": "7038394f",
   "metadata": {},
   "source": [
    "### Load model"
   ]
  },
  {
   "cell_type": "code",
   "execution_count": null,
   "id": "e5114cec",
   "metadata": {},
   "outputs": [],
   "source": [
    "topic_model = BERTopic.load(\"news_model\")\n",
    "topics = pickle.load(open(\"topics.pickle\", \"rb\"))"
   ]
  },
  {
   "cell_type": "markdown",
   "id": "17eace89",
   "metadata": {},
   "source": [
    "### Visualize"
   ]
  },
  {
   "cell_type": "code",
   "execution_count": null,
   "id": "f85a9d63",
   "metadata": {},
   "outputs": [],
   "source": [
    "topics_over_time = topic_model.topics_over_time(titles, timestamps, nr_bins=20)"
   ]
  },
  {
   "cell_type": "code",
   "execution_count": null,
   "id": "89234a99",
   "metadata": {},
   "outputs": [],
   "source": [
    "topic_model.visualize_topics_over_time(topics_over_time, top_n_topics=20)"
   ]
  }
 ],
 "metadata": {
  "kernelspec": {
   "display_name": "Python 3 (ipykernel)",
   "language": "python",
   "name": "python3"
  },
  "language_info": {
   "codemirror_mode": {
    "name": "ipython",
    "version": 3
   },
   "file_extension": ".py",
   "mimetype": "text/x-python",
   "name": "python",
   "nbconvert_exporter": "python",
   "pygments_lexer": "ipython3",
   "version": "3.10.4"
  }
 },
 "nbformat": 4,
 "nbformat_minor": 5
}
