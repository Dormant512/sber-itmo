{
 "cells": [
  {
   "cell_type": "markdown",
   "id": "64288b10",
   "metadata": {},
   "source": [
    "# BERTopic news processor"
   ]
  },
  {
   "cell_type": "code",
   "execution_count": 1,
   "id": "2ec57a1e",
   "metadata": {},
   "outputs": [
    {
     "name": "stderr",
     "output_type": "stream",
     "text": [
      "[nltk_data] Downloading package stopwords to\n",
      "[nltk_data]     /home/dormant/nltk_data...\n",
      "[nltk_data]   Package stopwords is already up-to-date!\n"
     ]
    }
   ],
   "source": [
    "import pandas as pd\n",
    "import numpy as np\n",
    "import matplotlib.pyplot as plt\n",
    "from datetime import date, timedelta, datetime\n",
    "\n",
    "plt.rcParams['figure.figsize'] = [15, 7.5]\n",
    "plt.rcParams['figure.facecolor'] = 'white'\n",
    "#plt.style.use('dark_background')\n",
    "\n",
    "comma_strip = lambda x: x.rstrip(\",\")\n",
    "\n",
    "import nltk\n",
    "nltk.download(\"stopwords\")\n",
    "\n",
    "from nltk.corpus import stopwords\n",
    "from pymystem3 import Mystem\n",
    "from string import punctuation\n",
    "\n",
    "mystem = Mystem() \n",
    "russian_stopwords = stopwords.words(\"russian\")\n",
    "\n",
    "def preprocess_text(text):\n",
    "    tokens = mystem.lemmatize(text.lower())\n",
    "    tokens = [token for token in tokens if token not in russian_stopwords \\\n",
    "              and token != \" \" \\\n",
    "              and token.strip() not in punctuation\n",
    "              and token.strip() not in [\"«\", \"»\", \"“\", \"”\"]]\n",
    "    text = \" \".join(tokens)\n",
    "    return text"
   ]
  },
  {
   "cell_type": "code",
   "execution_count": 2,
   "id": "c95ff6c1",
   "metadata": {},
   "outputs": [],
   "source": [
    "try:\n",
    "    news = pd.read_csv('../DATA-MINING/SCRAPED-DATA/LEMM-NEWS-2018-1-1-2022-9-1.csv',\n",
    "                       sep='\\t',\n",
    "                       on_bad_lines='skip')\n",
    "except:\n",
    "    news = pd.read_csv('../DATA-MINING/SCRAPED-DATA/NEWS-2018-1-1-2022-9-1.csv',\n",
    "                       sep='\\t',\n",
    "                       on_bad_lines='skip')\n",
    "    news['title'] = news['title'].apply(preprocess_text)\n",
    "    news.to_csv('../DATA-MINING/SCRAPED-DATA/LEMM-NEWS-2018-1-1-2022-9-1.csv',\n",
    "                sep='\\t',\n",
    "                index=False)\n",
    "    \n",
    "    # validate working file\n",
    "    news = pd.read_csv('../DATA-MINING/SCRAPED-DATA/LEMM-NEWS-2018-1-1-2022-9-1.csv',\n",
    "                       sep='\\t',\n",
    "                       on_bad_lines='skip')"
   ]
  },
  {
   "cell_type": "code",
   "execution_count": 3,
   "id": "c72cd65d",
   "metadata": {},
   "outputs": [
    {
     "name": "stdout",
     "output_type": "stream",
     "text": [
      "Number of news headers: 411713\n"
     ]
    },
    {
     "data": {
      "text/html": [
       "<div>\n",
       "<style scoped>\n",
       "    .dataframe tbody tr th:only-of-type {\n",
       "        vertical-align: middle;\n",
       "    }\n",
       "\n",
       "    .dataframe tbody tr th {\n",
       "        vertical-align: top;\n",
       "    }\n",
       "\n",
       "    .dataframe thead th {\n",
       "        text-align: right;\n",
       "    }\n",
       "</style>\n",
       "<table border=\"1\" class=\"dataframe\">\n",
       "  <thead>\n",
       "    <tr style=\"text-align: right;\">\n",
       "      <th></th>\n",
       "      <th>date</th>\n",
       "      <th>title</th>\n",
       "    </tr>\n",
       "  </thead>\n",
       "  <tbody>\n",
       "    <tr>\n",
       "      <th>0</th>\n",
       "      <td>2018-01-01</td>\n",
       "      <td>потанин оставаться вода</td>\n",
       "    </tr>\n",
       "    <tr>\n",
       "      <th>1</th>\n",
       "      <td>2018-01-01</td>\n",
       "      <td>автор хит 1 1 устраивать праздничный переполох</td>\n",
       "    </tr>\n",
       "    <tr>\n",
       "      <th>2</th>\n",
       "      <td>2018-01-01</td>\n",
       "      <td>северный корея принимать участие олимпиада южный</td>\n",
       "    </tr>\n",
       "    <tr>\n",
       "      <th>3</th>\n",
       "      <td>2018-01-01</td>\n",
       "      <td>зимний сказка петербург продлиться недолго</td>\n",
       "    </tr>\n",
       "    <tr>\n",
       "      <th>4</th>\n",
       "      <td>2018-01-01</td>\n",
       "      <td>алкогольный энергетик показывать красный свет</td>\n",
       "    </tr>\n",
       "  </tbody>\n",
       "</table>\n",
       "</div>"
      ],
      "text/plain": [
       "         date                                             title\n",
       "0  2018-01-01                           потанин оставаться вода\n",
       "1  2018-01-01    автор хит 1 1 устраивать праздничный переполох\n",
       "2  2018-01-01  северный корея принимать участие олимпиада южный\n",
       "3  2018-01-01        зимний сказка петербург продлиться недолго\n",
       "4  2018-01-01     алкогольный энергетик показывать красный свет"
      ]
     },
     "execution_count": 3,
     "metadata": {},
     "output_type": "execute_result"
    }
   ],
   "source": [
    "print(f'Number of news headers: {len(news)}')\n",
    "news.head()"
   ]
  },
  {
   "cell_type": "code",
   "execution_count": 11,
   "id": "e835f77a",
   "metadata": {},
   "outputs": [
    {
     "name": "stdout",
     "output_type": "stream",
     "text": [
      "From 2018-01-01 to 2022-09-01\n",
      "Number of days: 1704\n",
      "56 is going to be the number of monthly bins.\n"
     ]
    }
   ],
   "source": [
    "datify = lambda x: datetime.strptime(x, '%Y-%m-%d')\n",
    "textify = lambda x: x.strftime('%Y-%m-%d')\n",
    "\n",
    "start_d, end_d = datify(min(news['date'])), datify(max(news['date']))\n",
    "delta_d = end_d - start_d\n",
    "num_days = delta_d.days\n",
    "\n",
    "print(f\"From {textify(start_d)} to {textify(end_d)}\")\n",
    "print(f\"Number of days: {num_days}\")\n",
    "\n",
    "num_bins = int(num_days/30)\n",
    "print(f\"{num_bins} is going to be the number of monthly bins.\")"
   ]
  },
  {
   "cell_type": "code",
   "execution_count": 12,
   "id": "6019603f",
   "metadata": {},
   "outputs": [
    {
     "data": {
      "text/html": [
       "<div>\n",
       "<style scoped>\n",
       "    .dataframe tbody tr th:only-of-type {\n",
       "        vertical-align: middle;\n",
       "    }\n",
       "\n",
       "    .dataframe tbody tr th {\n",
       "        vertical-align: top;\n",
       "    }\n",
       "\n",
       "    .dataframe thead th {\n",
       "        text-align: right;\n",
       "    }\n",
       "</style>\n",
       "<table border=\"1\" class=\"dataframe\">\n",
       "  <thead>\n",
       "    <tr style=\"text-align: right;\">\n",
       "      <th></th>\n",
       "      <th>date</th>\n",
       "      <th>title</th>\n",
       "    </tr>\n",
       "  </thead>\n",
       "  <tbody>\n",
       "    <tr>\n",
       "      <th>411708</th>\n",
       "      <td>2022-09-01</td>\n",
       "      <td>петербуржец напоминать изменяться общественный...</td>\n",
       "    </tr>\n",
       "    <tr>\n",
       "      <th>411709</th>\n",
       "      <td>2022-09-01</td>\n",
       "      <td>обгорать трешка проспект наука вытаскивать пос...</td>\n",
       "    </tr>\n",
       "    <tr>\n",
       "      <th>411710</th>\n",
       "      <td>2022-09-01</td>\n",
       "      <td>называть креативный двор санкт-петербург котор...</td>\n",
       "    </tr>\n",
       "    <tr>\n",
       "      <th>411711</th>\n",
       "      <td>2022-09-01</td>\n",
       "      <td>первый сентябрь петербург открываться 7 социал...</td>\n",
       "    </tr>\n",
       "    <tr>\n",
       "      <th>411712</th>\n",
       "      <td>2022-09-01</td>\n",
       "      <td>гороскоп весь знак зодиак 1 сентябрь 2022 год ...</td>\n",
       "    </tr>\n",
       "  </tbody>\n",
       "</table>\n",
       "</div>"
      ],
      "text/plain": [
       "              date                                              title\n",
       "411708  2022-09-01  петербуржец напоминать изменяться общественный...\n",
       "411709  2022-09-01  обгорать трешка проспект наука вытаскивать пос...\n",
       "411710  2022-09-01  называть креативный двор санкт-петербург котор...\n",
       "411711  2022-09-01  первый сентябрь петербург открываться 7 социал...\n",
       "411712  2022-09-01  гороскоп весь знак зодиак 1 сентябрь 2022 год ..."
      ]
     },
     "execution_count": 12,
     "metadata": {},
     "output_type": "execute_result"
    }
   ],
   "source": [
    "news.tail()"
   ]
  },
  {
   "cell_type": "code",
   "execution_count": 39,
   "id": "0aa2b5fc",
   "metadata": {
    "scrolled": true
   },
   "outputs": [
    {
     "name": "stderr",
     "output_type": "stream",
     "text": [
      "Batches: 100%|███████████████████████████████████████████████████████████| 35/35 [00:15<00:00,  2.31it/s]\n",
      "2023-04-02 15:29:07,411 - BERTopic - Transformed documents to Embeddings\n",
      "2023-04-02 15:29:11,185 - BERTopic - Reduced dimensionality\n",
      "2023-04-02 15:29:11,243 - BERTopic - Clustered reduced embeddings\n",
      "10it [00:00, 27.73it/s]\n"
     ]
    }
   ],
   "source": [
    "from bertopic import BERTopic\n",
    "from dateutil.relativedelta import relativedelta\n",
    "\n",
    "timestamps = news['date'].to_list()[:num_bins*20]\n",
    "titles = news['title'].to_list()[:num_bins*20]\n",
    "\n",
    "try:\n",
    "    topic_df = pd.read_csv('./PROCESSED-DATA/TOPICS.csv', sep=',', on_bad_lines='skip')\n",
    "except:\n",
    "    topic_model = BERTopic(embedding_model='distiluse-base-multilingual-cased-v1',\n",
    "                           verbose=True)\n",
    "    topics, probs = topic_model.fit_transform(titles)\n",
    "    topic_labels = topic_model.generate_topic_labels(nr_words=3,\n",
    "                                                     topic_prefix=True,\n",
    "                                                     word_length=10,\n",
    "                                                     separator=\"_\")\n",
    "    \n",
    "    topics_over_time = topic_model.topics_over_time(titles, timestamps, nr_bins=num_bins)\n",
    "    topic_df = pd.DataFrame(topics_over_time)\n",
    "    topic_df.rename(columns={\"Timestamp\": \"Date\"}, inplace=True)\n",
    "    topic_df.fillna(0.0)\n",
    "    \n",
    "    new_index = pd.date_range(start=textify(start_d),\n",
    "                              end=textify(end_d + relativedelta(months=-1)),\n",
    "                              freq='MS')\n",
    "    \n",
    "    topic_df = topic_df.pivot(index=\"Date\",\n",
    "                              columns=\"Topic\",\n",
    "                              values=\"Frequency\")\n",
    "    \n",
    "    topic_df = topic_df.reindex(topic_df.index.union(new_index)).interpolate(method='time')\n",
    "    topic_df = topic_df.reindex(new_index)\n",
    "    topic_df.set_axis(topic_labels, axis=1, inplace=True)\n",
    "    topic_df.fillna(0.0)\n",
    "    \n",
    "    topic_df.to_csv('./PROCESSED-DATA/TOPICS.csv', sep=',')\n",
    "    \n",
    "    # validate working file\n",
    "    topic_df = pd.read_csv('./PROCESSED-DATA/TOPICS.csv', sep=',', on_bad_lines='skip')"
   ]
  },
  {
   "cell_type": "code",
   "execution_count": 19,
   "id": "b9dd4d5c",
   "metadata": {},
   "outputs": [
    {
     "name": "stdout",
     "output_type": "stream",
     "text": [
      "Number of topics: 11\n",
      "Number of entries: 65\n",
      "Max topic number: 9\n",
      "Min timestamp: 2017-12-31 23:52:48.000000000\n",
      "Max timestamp: 2018-01-05 21:51:25.714285824\n"
     ]
    }
   ],
   "source": [
    "start_date = topic_df['Date'].min()\n",
    "end_date = topic_df['Date'].max()\n",
    "num_topics = topic_df['Topic'].nunique()\n",
    "\n",
    "print(f\"Number of topics: {num_topics}\")\n",
    "print(f\"Number of entries: {len(topic_df)}\")\n",
    "print(f\"Max topic number: {topic_df['Topic'].max()}\")\n",
    "print(f\"Min timestamp: {start_date}\")\n",
    "print(f\"Max timestamp: {end_date}\")"
   ]
  },
  {
   "cell_type": "code",
   "execution_count": null,
   "id": "97e10e0a",
   "metadata": {},
   "outputs": [],
   "source": [
    "deltify = lambda x: (datify(x) - start_date).days - 1\n",
    "topic_df['Date'] = topic_df['Date'].apply(deltify)"
   ]
  },
  {
   "cell_type": "code",
   "execution_count": null,
   "id": "4ec72dbf",
   "metadata": {},
   "outputs": [],
   "source": [
    "topic_df.head()"
   ]
  },
  {
   "cell_type": "code",
   "execution_count": null,
   "id": "e86d0b3d",
   "metadata": {},
   "outputs": [],
   "source": [
    "topic_df[topic_df['Topic'] == 0].head()"
   ]
  },
  {
   "cell_type": "code",
   "execution_count": null,
   "id": "7e1648ab",
   "metadata": {},
   "outputs": [],
   "source": [
    "topic_ts = []     # time series\n",
    "topic_names_list = []  # name list\n",
    "num_topics = 700\n",
    "\n",
    "for i in range(num_topics):\n",
    "    ans = topic_df[topic_df['Topic'] == i]\n",
    "    name = list(ans['Name'])\n",
    "    topic_ts.append(ans)\n",
    "    topic_names_list.append(name[0])"
   ]
  },
  {
   "cell_type": "code",
   "execution_count": null,
   "id": "f8bb2085",
   "metadata": {},
   "outputs": [],
   "source": [
    "m_dates = []\n",
    "for i in range(12):\n",
    "    m_date = date(2020, i+1, 1)\n",
    "    m_dates.append(m_date)\n",
    "\n",
    "month_ticks = [deltify(item) for item in m_dates]\n",
    "month_names = [\"Jan\", \"Feb\", \"Mar\", \"Apr\", \"May\", \"Jun\", \"Jul\", \"Aug\", \"Sep\", \\\n",
    "               \"Oct\", \"Nov\", \"Dec\"]\n",
    "print(month_ticks)\n",
    "print(month_names)"
   ]
  },
  {
   "cell_type": "code",
   "execution_count": null,
   "id": "cc560cee",
   "metadata": {},
   "outputs": [],
   "source": [
    "for num in range(num_topics):\n",
    "    plt.plot(topic_ts[num]['Date'], topic_ts[num]['Frequency'])\n",
    "    plt.xticks(month_ticks, labels=month_names)\n",
    "    plt.xlim(-5, 299)\n",
    "    plt.ylabel(\"Frequency\")\n",
    "    plt.xlabel(\"Date\")"
   ]
  },
  {
   "cell_type": "code",
   "execution_count": null,
   "id": "4eadef59",
   "metadata": {},
   "outputs": [],
   "source": [
    "date_list = list(range(topic_df['Date'].max() + 1))"
   ]
  },
  {
   "cell_type": "code",
   "execution_count": null,
   "id": "6a02a367",
   "metadata": {},
   "outputs": [],
   "source": [
    "num = 0\n",
    "\n",
    "from scipy.interpolate import interp1d\n",
    "\n",
    "x_new = np.array(date_list)\n",
    "\n",
    "x = topic_ts[num]['Date']\n",
    "y = topic_ts[num]['Frequency']\n",
    "\n",
    "f_lin = interp1d(x, y)\n",
    "f_qua = interp1d(x, y, kind='quadratic')\n",
    "f_cub = interp1d(x, y, kind='cubic')\n",
    "\n",
    "plt.plot(x, y, 'o', x_new, f_lin(x_new), '-', x_new, \\\n",
    "         f_qua(x_new), '--', x_new, f_cub(x_new), '-.')\n",
    "plt.xticks(month_ticks, labels=month_names)\n",
    "plt.xlim(-5, 299)\n",
    "plt.ylabel(\"Frequency\")\n",
    "plt.xlabel(\"Date\")\n",
    "plt.legend(['data', 'linear', 'quadratic', 'cubic'], loc='best')"
   ]
  },
  {
   "cell_type": "markdown",
   "id": "359b1078",
   "metadata": {},
   "source": [
    "### Quadratic spline interpolation chosen"
   ]
  },
  {
   "cell_type": "code",
   "execution_count": null,
   "id": "80fdefea",
   "metadata": {},
   "outputs": [],
   "source": [
    "num_days = len(x_new)\n",
    "final_topics = 50\n",
    "topic_time_series = np.zeros((final_topics, num_days))\n",
    "topic_names = []\n",
    "\n",
    "for i in range(final_topics):  \n",
    "    x = topic_ts[i]['Date']\n",
    "    y = topic_ts[i]['Frequency']\n",
    "    f_qua = interp1d(x, y, kind='quadratic', bounds_error=False)\n",
    "    ans = f_qua(x_new)\n",
    "    \n",
    "    topic_time_series[i] = np.array(ans)"
   ]
  },
  {
   "cell_type": "code",
   "execution_count": null,
   "id": "fe980cd9",
   "metadata": {},
   "outputs": [],
   "source": [
    "print(f\"Shape of array before: {topic_time_series.shape}\")\n",
    "\n",
    "topic_ts = np.delete(topic_time_series, slice(274, None, None), axis=1)\n",
    "days_ts = np.delete(x_new, slice(274, None, None))\n",
    "\n",
    "print(f\"Shape of array after: {topic_ts.shape}\")\n",
    "\n",
    "for i in range(topic_ts.shape[0]):\n",
    "    plt.plot(days_ts, topic_ts[i])\n",
    "    plt.xticks(month_ticks, labels=month_names)\n",
    "    plt.xlim(-5, 279)\n",
    "    plt.ylabel(\"Frequency\")\n",
    "    plt.xlabel(\"Date\")"
   ]
  },
  {
   "cell_type": "markdown",
   "id": "37b8ee47",
   "metadata": {},
   "source": [
    "### Save dataset"
   ]
  },
  {
   "cell_type": "code",
   "execution_count": null,
   "id": "93c1828b",
   "metadata": {},
   "outputs": [],
   "source": [
    "topic_names = np.array(topic_names_list)\n",
    "np.savez('./sber_work_files/news_lemm_w_tp_names.npz', \\\n",
    "         topic_ts=topic_ts, topic_names=topic_names)"
   ]
  },
  {
   "cell_type": "markdown",
   "id": "90da6b96",
   "metadata": {},
   "source": [
    "### Load dataset"
   ]
  },
  {
   "cell_type": "code",
   "execution_count": null,
   "id": "157ae2f6",
   "metadata": {},
   "outputs": [],
   "source": [
    "npzfile = np.load('./sber_work_files/news_lemm_w_tp_names.npz', allow_pickle=True)\n",
    "topics, names = npzfile['topic_ts'], npzfile['topic_names']\n",
    "print(f\"Shape of dataset: {topics.shape}\")\n",
    "\n",
    "for i in range(20): #topics.shape[0]):\n",
    "    lbl = names[i]\n",
    "    plt.plot(topics[i], label=lbl)\n",
    "    plt.xticks(month_ticks, labels=month_names)\n",
    "    plt.xlim(-5, 278)\n",
    "    plt.ylabel(\"Frequency\")\n",
    "    plt.xlabel(\"Date\")\n",
    "\n",
    "plt.legend(prop={'size': 8})"
   ]
  },
  {
   "cell_type": "code",
   "execution_count": null,
   "id": "d33bb74b",
   "metadata": {
    "scrolled": true
   },
   "outputs": [],
   "source": [
    "for name in names[:50]:\n",
    "    print(name)"
   ]
  },
  {
   "cell_type": "code",
   "execution_count": null,
   "id": "618c2788",
   "metadata": {
    "scrolled": false
   },
   "outputs": [],
   "source": [
    "# Manually sorted existing 50 topics\n",
    "sorted_topic_names_dict = {}\n",
    "with open(\"./sber_work_files/topics.txt\", \"r\") as f:\n",
    "    text = f.read().split('\\n\\n')\n",
    "    for item in text:\n",
    "        lines = item.split('\\n')\n",
    "        sorted_topic_names_dict.update({lines[0][:-1]: list(lines[1:])})\n",
    "\n",
    "sorted_topic_names_dict['Правительство'] = sorted_topic_names_dict['Правительство'][:-1]\n",
    "        \n",
    "print(sorted_topic_names_dict.keys())\n",
    "print(sorted_topic_names_dict['Путешествия'])"
   ]
  },
  {
   "cell_type": "code",
   "execution_count": null,
   "id": "92dcf2d4",
   "metadata": {},
   "outputs": [],
   "source": [
    "# save month_ticks, month_names, fin_top_ts, fin_top_names, sorted_topic_names_dict\n",
    "fin_top_names = list(sorted_topic_names_dict.keys())\n",
    "fin_top_ts = np.zeros((len(fin_top_names), topics.shape[1]))\n",
    "\n",
    "for num, item in enumerate(sorted_topic_names_dict):\n",
    "    tops = [int(i.split(\"_\")[0]) for i in list(sorted_topic_names_dict[item])]\n",
    "    for microtop in tops:\n",
    "        fin_top_ts[num] += topics[microtop]"
   ]
  },
  {
   "cell_type": "code",
   "execution_count": null,
   "id": "3e98d2f8",
   "metadata": {},
   "outputs": [],
   "source": [
    "for i in range(fin_top_ts.shape[0]):\n",
    "    lbl = fin_top_names[i]\n",
    "    plt.plot(fin_top_ts[i], label=lbl)\n",
    "    plt.xticks(month_ticks, labels=month_names)\n",
    "    plt.xlim(-5, 278)\n",
    "    plt.ylabel(\"Frequency\")\n",
    "    plt.xlabel(\"Date\")\n",
    "\n",
    "plt.legend(prop={'size': 8})"
   ]
  },
  {
   "cell_type": "markdown",
   "id": "c5415a7a",
   "metadata": {},
   "source": [
    "# Save final dataset"
   ]
  },
  {
   "cell_type": "code",
   "execution_count": null,
   "id": "2d1f6a8d",
   "metadata": {},
   "outputs": [],
   "source": [
    "np.savez('./sber_work_files/news4work.npz', \\\n",
    "         month_ticks=month_ticks, \\\n",
    "         month_names=month_names, \\\n",
    "         fin_top_ts=fin_top_ts, \\\n",
    "         fin_top_names=fin_top_names, \\\n",
    "         sorted_topic_names_dict=sorted_topic_names_dict)"
   ]
  },
  {
   "cell_type": "markdown",
   "id": "11d441cb",
   "metadata": {},
   "source": [
    "## Check dataset"
   ]
  },
  {
   "cell_type": "code",
   "execution_count": null,
   "id": "e25b23a3",
   "metadata": {},
   "outputs": [],
   "source": [
    "npzfile = np.load('./sber_work_files/news4work.npz', allow_pickle=True)\n",
    "\n",
    "month_ticks=npzfile['month_ticks']\n",
    "month_names=npzfile['month_names']\n",
    "fin_top_ts=npzfile['fin_top_ts']\n",
    "fin_top_names=npzfile['fin_top_names']\n",
    "sorted_topic_names_dict=npzfile['sorted_topic_names_dict']"
   ]
  },
  {
   "cell_type": "code",
   "execution_count": null,
   "id": "19d40cb9",
   "metadata": {},
   "outputs": [],
   "source": [
    "for i in range(fin_top_ts.shape[0]):\n",
    "    lbl = fin_top_names[i]\n",
    "    plt.plot(fin_top_ts[i], label=lbl)\n",
    "    plt.xticks(month_ticks, labels=month_names)\n",
    "    plt.xlim(-5, 278)\n",
    "    plt.ylabel(\"Frequency\")\n",
    "    plt.xlabel(\"Date\")\n",
    "\n",
    "plt.legend(prop={'size': 8})"
   ]
  }
 ],
 "metadata": {
  "kernelspec": {
   "display_name": "Python 3 (ipykernel)",
   "language": "python",
   "name": "python3"
  },
  "language_info": {
   "codemirror_mode": {
    "name": "ipython",
    "version": 3
   },
   "file_extension": ".py",
   "mimetype": "text/x-python",
   "name": "python",
   "nbconvert_exporter": "python",
   "pygments_lexer": "ipython3",
   "version": "3.10.6"
  }
 },
 "nbformat": 4,
 "nbformat_minor": 5
}
