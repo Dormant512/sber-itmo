{
 "cells": [
  {
   "cell_type": "markdown",
   "id": "4c86d723",
   "metadata": {},
   "source": [
    "# Transaction time series processor"
   ]
  },
  {
   "cell_type": "code",
   "execution_count": null,
   "id": "08482a07",
   "metadata": {},
   "outputs": [],
   "source": [
    "import pandas as pd\n",
    "import numpy as np\n",
    "import matplotlib.pyplot as plt\n",
    "%matplotlib inline\n",
    "\n",
    "raw_df = pd.read_csv(\"../DATA-MINING/OTHER-DATA/TRANS/trans_big.csv\", encoding=\"cp1251\")\n",
    "raw_df = raw_df.drop(columns=['card', 'mcc', 'value'])\n",
    "group_list = ['food', 'fun', 'travel', 'money', 'outfit', 'nonfood', 'telecom',\n",
    "              'health', 'misc', 'kids', 'dwelling', 'remote', 'beauty', 'charity']\n",
    "raw_df = raw_df[raw_df['group'].isin(group_list)]"
   ]
  },
  {
   "cell_type": "code",
   "execution_count": null,
   "id": "cd092275",
   "metadata": {},
   "outputs": [],
   "source": [
    "raw_df.head()"
   ]
  },
  {
   "cell_type": "code",
   "execution_count": null,
   "id": "ea05a3b1",
   "metadata": {},
   "outputs": [],
   "source": [
    "from colour import Color\n",
    "\n",
    "plt.rcParams['figure.figsize'] = [15, 7.5]\n",
    "plt.rcParams['figure.facecolor'] = 'white'\n",
    "#plt.style.use('dark_background')\n",
    "\n",
    "orange = Color(\"orange\")\n",
    "\n",
    "color_objs = list(orange.range_to(Color(\"slateblue\"), len(group_list)))\n",
    "colors = [col.hex for col in color_objs]\n",
    "print(\"Num of colors:\", len(colors))\n",
    "print(\"Unique groups:\", raw_df['group'].unique())\n",
    "\n",
    "unique_clients = len(raw_df['client'].unique())\n",
    "unique_groups = len(raw_df['group'].unique())\n",
    "\n",
    "print(f\"Unique clients: {unique_clients}\")\n",
    "print(f\"Unique groups: {unique_groups}\")\n",
    "print(f\"Number of transactions: {len(raw_df)}\")"
   ]
  },
  {
   "cell_type": "markdown",
   "id": "08361a12",
   "metadata": {},
   "source": [
    "## Prepare data for grouping"
   ]
  },
  {
   "cell_type": "code",
   "execution_count": null,
   "id": "5db82337",
   "metadata": {},
   "outputs": [],
   "source": [
    "from datetime import date, datetime\n",
    "\n",
    "datify = lambda x: datetime.strptime(x, '%Y-%m-%d')\n",
    "textify = lambda x: x.strftime('%Y-%m-%d')\n",
    "\n",
    "start_d, end_d = datify(min(raw_df['date'])), datify(max(raw_df['date']))\n",
    "delta_d = end_d - start_d\n",
    "num_days = delta_d.days\n",
    "\n",
    "print(f\"From {textify(start_d)} to {textify(end_d)}\")\n",
    "print(f\"Number of days: {num_days}\")\n",
    "\n",
    "#raw_df['date'] = raw_df['date'].apply(datify)"
   ]
  },
  {
   "cell_type": "code",
   "execution_count": null,
   "id": "34395862",
   "metadata": {},
   "outputs": [],
   "source": [
    "client_list = list(raw_df['client'].unique())\n",
    "client_dict = {client_list[n]: n+1 for n in range(unique_clients)} # clients from 1 to 10000\n",
    "\n",
    "raw_df['client'] = raw_df['client'].apply(lambda x: client_dict[x])\n",
    "raw_df = raw_df.groupby(['group', 'date', 'client'])['amt'].sum().reset_index()"
   ]
  },
  {
   "cell_type": "code",
   "execution_count": null,
   "id": "88f3438d",
   "metadata": {},
   "outputs": [],
   "source": [
    "print(f\"Number of transactions: {len(raw_df)}\")\n",
    "raw_df.head()"
   ]
  },
  {
   "cell_type": "markdown",
   "id": "2218c058",
   "metadata": {},
   "source": [
    "## Build the time series"
   ]
  },
  {
   "cell_type": "code",
   "execution_count": null,
   "id": "dac74dc0",
   "metadata": {},
   "outputs": [],
   "source": [
    "all_dates = pd.date_range(start=start_d,\n",
    "                          end=end_d).to_list()\n",
    "all_dates = [textify(item) for item in all_dates]\n",
    "\n",
    "print(\"Groups: {\", end=\" \")\n",
    "\n",
    "for cur_group in group_list:\n",
    "    temp_raw = raw_df[raw_df['group'] == cur_group].drop(columns=['group'])\n",
    "    temp_ts = temp_raw.pivot(index=\"date\",\n",
    "                             columns=\"client\",\n",
    "                             values=\"amt\").reindex(columns=list(range(1, unique_clients+1)))\n",
    "    temp_ts = temp_ts.reindex(all_dates)\n",
    "    temp_ts = temp_ts.fillna(0.0)\n",
    "    \n",
    "    temp_ts.to_csv(f'./PROCESSED-DATA/TRANS/{cur_group}.csv')\n",
    "    \n",
    "    print(cur_group, end=\" \")\n",
    "\n",
    "print(\"} generated.\")"
   ]
  },
  {
   "cell_type": "markdown",
   "id": "0edf00b3",
   "metadata": {},
   "source": [
    "## Prepare macro-level dataframe"
   ]
  },
  {
   "cell_type": "code",
   "execution_count": null,
   "id": "be86f2f8",
   "metadata": {},
   "outputs": [],
   "source": [
    "def read_cli(path):\n",
    "    temp_ts = pd.read_csv(path)\n",
    "    temp_ts['date'] = temp_ts['date'].apply(datify)\n",
    "    temp_ts = temp_ts.set_index('date')\n",
    "    return temp_ts"
   ]
  },
  {
   "cell_type": "code",
   "execution_count": null,
   "id": "aab84d87",
   "metadata": {},
   "outputs": [],
   "source": [
    "all_df = pd.DataFrame(columns=group_list)\n",
    "\n",
    "print(\"Groups: {\", end=\" \")\n",
    "\n",
    "for cur_group in group_list:\n",
    "    all_df[cur_group] = read_cli(f'./PROCESSED-DATA/TRANS/{cur_group}.csv').sum(axis=1)\n",
    "    print(cur_group, end=\" \")\n",
    "\n",
    "print(\"} accumulated.\")\n",
    "all_df.to_csv(f'./PROCESSED-DATA/TRANS/MACRO-TRANS.csv')"
   ]
  },
  {
   "cell_type": "markdown",
   "id": "ad020d26",
   "metadata": {},
   "source": [
    "## Look at the dataset"
   ]
  },
  {
   "cell_type": "code",
   "execution_count": null,
   "id": "cd214caf",
   "metadata": {},
   "outputs": [],
   "source": [
    "# Money for food of random client\n",
    "food_df = read_cli('./PROCESSED-DATA/TRANS/food.csv')\n",
    "cli = str(np.random.randint(0, unique_clients))\n",
    "\n",
    "plt.plot(food_df[cli])\n",
    "plt.title(f\"Food spendings of client {cli}\");"
   ]
  },
  {
   "cell_type": "code",
   "execution_count": null,
   "id": "ba51cf23",
   "metadata": {},
   "outputs": [],
   "source": [
    "# Cumulative plot for different groups of all clients\n",
    "all_df = read_cli('./PROCESSED-DATA/TRANS/MACRO-TRANS.csv')\n",
    "n = len(all_df)\n",
    "client_sum = all_df.T.to_numpy();\n",
    "\n",
    "x = pd.date_range(start=start_d, end=end_d).to_list()\n",
    "y = np.zeros(n)\n",
    "\n",
    "stack = [client_sum[n][:] for n in range(unique_groups)]\n",
    "\n",
    "c = colors\n",
    "\n",
    "for i, item in enumerate(stack):\n",
    "    yp = np.copy(y)\n",
    "    y += item\n",
    "    plt.fill_between(x, yp, y, color=c[i], alpha=0.5)\n",
    "\n",
    "plt.legend(tuple(group_list));"
   ]
  },
  {
   "cell_type": "code",
   "execution_count": null,
   "id": "b58d26a7",
   "metadata": {},
   "outputs": [],
   "source": [
    "# Normalized cumulative plot for different groups of all clients\n",
    "# Cumulative plot for different groups of all clients\n",
    "all_df = read_cli('./PROCESSED-DATA/TRANS/MACRO-TRANS.csv')\n",
    "n = len(all_df)\n",
    "client_sum = all_df.T.to_numpy();\n",
    "mega_sum = client_sum.sum(axis=0).reshape(n);\n",
    "\n",
    "x = pd.date_range(start=start_d, end=end_d).to_list()\n",
    "y = np.zeros(n)\n",
    "\n",
    "stack = [client_sum[n][:] for n in range(unique_groups)]\n",
    "\n",
    "c = colors\n",
    "\n",
    "for i, item in enumerate(stack):\n",
    "    yp = np.copy(y)\n",
    "    y += item\n",
    "    plt.fill_between(x, yp/mega_sum, y/mega_sum, color=c[i], alpha=0.5)\n",
    "\n",
    "plt.legend(tuple(group_list));"
   ]
  }
 ],
 "metadata": {
  "kernelspec": {
   "display_name": "Python 3 (ipykernel)",
   "language": "python",
   "name": "python3"
  },
  "language_info": {
   "codemirror_mode": {
    "name": "ipython",
    "version": 3
   },
   "file_extension": ".py",
   "mimetype": "text/x-python",
   "name": "python",
   "nbconvert_exporter": "python",
   "pygments_lexer": "ipython3",
   "version": "3.10.6"
  }
 },
 "nbformat": 4,
 "nbformat_minor": 5
}
